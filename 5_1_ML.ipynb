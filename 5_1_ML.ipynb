{
  "cells": [
    {
      "cell_type": "code",
      "execution_count": 150,
      "outputs": [],
      "source": [
        "import torch\n",
        "import numpy as np\n",
        "import matplotlib.pyplot as plt\n",
        "from torchvision import datasets\n",
        "from torch.utils.data import DataLoader\n",
        "from torchvision.transforms import ToTensor\n",
        "from tqdm import tqdm\n",
        "import seaborn as sns\n",
        "\n",
        "train_dataset = datasets.MNIST(\n",
        "    root = './data',\n",
        "    train = True,\n",
        "    download = True,\n",
        "    transform=ToTensor()\n",
        ")\n",
        "test_dataset = datasets.MNIST(\n",
        "    root = './data',\n",
        "    train = False,\n",
        "    transform=ToTensor()\n",
        ")"
      ],
      "metadata": {
        "pycharm": {
          "name": "#%%\n"
        },
        "id": "2tm9JvmzF49M"
      }
    },
    {
      "cell_type": "code",
      "execution_count": 151,
      "outputs": [
        {
          "output_type": "execute_result",
          "data": {
            "text/plain": [
              "<matplotlib.image.AxesImage at 0x7f3ef7c6cf70>"
            ]
          },
          "metadata": {},
          "execution_count": 151
        },
        {
          "output_type": "display_data",
          "data": {
            "text/plain": [
              "<Figure size 432x288 with 1 Axes>"
            ],
            "image/png": "[encoded data removed]"
          },
          "metadata": {
            "needs_background": "light"
          }
        }
      ],
      "source": [
        "BATCH_SIZE = 64\n",
        "\n",
        "train_dataloader = DataLoader(train_dataset, batch_size=BATCH_SIZE, shuffle=True, drop_last=True)\n",
        "test_dataloader = DataLoader(test_dataset, batch_size=BATCH_SIZE, shuffle=True, drop_last=True)\n",
        "\n",
        "### Целевое значение\n",
        "next(iter(train_dataloader))[1]\n",
        "\n",
        "### Torch tensor\n",
        "next(iter(train_dataloader))[0].shape\n",
        "\n",
        "for_show = next(iter(train_dataloader))[0]\n",
        "plt.imshow(for_show.numpy()[0][0])"
      ],
      "metadata": {
        "pycharm": {
          "name": "#%%\n"
        },
        "id": "RdgulippF49g",
        "outputId": "2f26e736-84ef-4848-f1c1-52b929100e0e",
        "colab": {
          "base_uri": "https://localhost:8080/",
          "height": 283
        }
      }
    },
    {
      "cell_type": "markdown",
      "source": [
        "### Нейронная сеть должна решать задачу не бинарной классификации, а многоклассовой (Для этого нужно использовать другую лосс функцию и функцию активации на выходе)"
      ],
      "metadata": {
        "collapsed": false,
        "pycharm": {
          "name": "#%% md\n"
        },
        "id": "5fOPs_X-F49h"
      }
    },
    {
      "cell_type": "code",
      "execution_count": 152,
      "outputs": [
        {
          "output_type": "execute_result",
          "data": {
            "text/plain": [
              "IsSoftmax(\n",
              "  (Linear1): Linear(in_features=784, out_features=256, bias=True)\n",
              "  (Linear2): Linear(in_features=256, out_features=64, bias=True)\n",
              "  (Linear3): Linear(in_features=64, out_features=32, bias=True)\n",
              "  (Linear4): Linear(in_features=32, out_features=10, bias=True)\n",
              "  (relu): ReLU()\n",
              "  (Softmax): Softmax(dim=None)\n",
              "  (dropout): Dropout(p=0.3, inplace=False)\n",
              ")"
            ]
          },
          "metadata": {},
          "execution_count": 152
        }
      ],
      "source": [
        "class IsSoftmax(torch.nn.Module):\n",
        "    def __init__(self, num_features, num_classes):#input_shape=(1,28,28)\n",
        "        super(IsSoftmax, self).__init__()\n",
        "        self.Linear1 = torch.nn.Linear(num_features, 256)\n",
        "        self.Linear2 = torch.nn.Linear(256, 64)\n",
        "        self.Linear3 = torch.nn.Linear(64, 32)\n",
        "        self.Linear4 = torch.nn.Linear(32, num_classes)\n",
        "        self.relu = torch.nn.ReLU()\n",
        "        #self.Sigmoid = torch.nn.Sigmoid()\n",
        "        self.Softmax = torch.nn.Softmax()\n",
        "        self.dropout = torch.nn.Dropout(0.3)\n",
        "    def forward(self, x):\n",
        "        x = x.squeeze(1)\n",
        "        x = x.flatten(1)\n",
        "        x = self.Linear1(x)\n",
        "        x = self.dropout(x) #Dropout — решает проблему переобучения и повышает точность классиф. модели!\n",
        "        x = self.relu(x)\n",
        "        x = self.Linear2(x)\n",
        "        x = self.relu(x)\n",
        "        x = self.Linear3(x)\n",
        "        x = self.relu(x)\n",
        "        probas = self.Linear4(x).squeeze(1)\n",
        "        x = self.Softmax(probas) #dim=1\n",
        "        return x, probas\n",
        "\n",
        "\n",
        "model = IsSoftmax(num_features=784, num_classes=10)\n",
        "device = torch.device(\"cuda:0\" if torch.cuda.is_available() else \"cpu\")\n",
        "model.to(device)"
      ],
      "metadata": {
        "pycharm": {
          "name": "#%%\n"
        },
        "id": "jGyMgfsqF49j",
        "colab": {
          "base_uri": "https://localhost:8080/"
        },
        "outputId": "bb4fe457-686e-40e8-c1ea-c474377375ad"
      }
    },
    {
      "cell_type": "markdown",
      "source": [
        "### Функция, вычисляющая лосс"
      ],
      "metadata": {
        "collapsed": false,
        "pycharm": {
          "name": "#%% md\n"
        },
        "id": "YGLqoyKSF49k"
      }
    },
    {
      "cell_type": "code",
      "execution_count": 153,
      "outputs": [],
      "source": [
        "def loss_function(true, pred):\n",
        "    loss = torch.nn.CrossEntropyLoss()\n",
        "    return loss(pred, true)"
      ],
      "metadata": {
        "pycharm": {
          "name": "#%%\n"
        },
        "id": "fCB5WRPHF49l"
      }
    },
    {
      "cell_type": "markdown",
      "source": [
        "### Оптимизатор"
      ],
      "metadata": {
        "collapsed": false,
        "pycharm": {
          "name": "#%% md\n"
        },
        "id": "yWeTPqJ9F49m"
      }
    },
    {
      "cell_type": "code",
      "execution_count": 154,
      "outputs": [],
      "source": [
        "optimizer = torch.optim.SGD(params = model.parameters(), lr = 1e-3)"
      ],
      "metadata": {
        "pycharm": {
          "name": "#%%\n"
        },
        "id": "8JlXVWpzF49m"
      }
    },
    {
      "cell_type": "markdown",
      "source": [
        "### Построим процесс обучения нейронной сети"
      ],
      "metadata": {
        "collapsed": false,
        "pycharm": {
          "name": "#%% md\n"
        },
        "id": "99vKWaA_F49n"
      }
    },
    {
      "cell_type": "code",
      "execution_count": 156,
      "outputs": [
        {
          "output_type": "stream",
          "name": "stderr",
          "text": [
            "<ipython-input-152-ce1c84f86c34>:23: UserWarning: Implicit dimension choice for softmax has been deprecated. Change the call to include dim=X as an argument.\n",
            "  x = self.Softmax(probas) #dim=1\n"
          ]
        },
        {
          "output_type": "stream",
          "name": "stdout",
          "text": [
            "\n",
            " Точность классификации модели: 9.60%\n"
          ]
        }
      ],
      "source": [
        "import time\n",
        "import torch.nn.functional as F\n",
        "torch.manual_seed(123)\n",
        "\n",
        "NUM_EPOCHS = 30\n",
        "WANTED_LABEL = 9\n",
        "\n",
        "def compute_accuracy(model, data_loader):\n",
        "    correct_pred, num_examples = 0, 0\n",
        "    \n",
        "    for features, targets in data_loader:\n",
        "        features = features.view(-1, 28*28).to(device)\n",
        "        targets = targets.to(device)\n",
        "        logits, probas = model(features)\n",
        "        _, predicted_labels = torch.max(probas, 1)\n",
        "        num_examples += targets.size(0)\n",
        "        correct_pred += (predicted_labels == targets).sum()\n",
        "        \n",
        "    return correct_pred.float() / num_examples * 100\n",
        "    \n",
        "\n",
        "start_time = time.time()\n",
        "epoch_costs = []\n",
        "for epoch in range(NUM_EPOCHS):\n",
        "    avg_cost = 0.\n",
        "    for batch_idx, (features, targets) in enumerate(train_dataloader):\n",
        "        \n",
        "        features = features.view(-1, 28*28).to(device)\n",
        "        targets = targets.to(device)\n",
        "            \n",
        "        ### Обучение (прямое и обратн. распространение ошибки)\n",
        "        logits, probas = model(features)\n",
        "        \n",
        "        # Кроссэнтропия\n",
        "        cost = F.cross_entropy(logits, targets)\n",
        "        optimizer.zero_grad()\n",
        "        cost.backward()\n",
        "        avg_cost += cost\n",
        "        \n",
        "        ### Обновление параметров модели\n",
        "        optimizer.step()\n",
        "        \n",
        "        ### Вывод лога\n",
        "        if not batch_idx % 50: ''''''\n",
        "            #print ('Эпоха: %03d/%03d | Batch %03d/%03d | Cost: %.4f' %(epoch+1, NUM_EPOCHS, batch_idx, len(train_dataset)//BATCH_SIZE, cost))\n",
        "            \n",
        "    with torch.set_grad_enabled(False):\n",
        "        avg_cost = avg_cost/len(train_dataset)\n",
        "        epoch_costs.append(avg_cost)\n",
        "        #print('Эпоха: %03d/%03d Точность: %.2f%%' % (epoch+1, NUM_EPOCHS, compute_accuracy(model, train_dataloader)))\n",
        "        #print('Время прошло: %.2f min' % ((time.time() - start_time)/60))\n",
        "\n",
        "#Вывод общей точности классификации модели\n",
        "print('\\n Точность классификации модели: %.2f%%' % (compute_accuracy(model, test_dataloader)))"
      ],
      "metadata": {
        "pycharm": {
          "name": "#%%\n"
        },
        "id": "yF8yTGT9F49n",
        "outputId": "1e18c6ed-373c-4b8e-b518-a3a3d7187086",
        "colab": {
          "base_uri": "https://localhost:8080/"
        }
      }
    },
    {
      "cell_type": "code",
      "execution_count": 162,
      "outputs": [
        {
          "output_type": "stream",
          "name": "stdout",
          "text": [
            "\n",
            " Числа кторые необходимо распознать:: \n"
          ]
        },
        {
          "output_type": "display_data",
          "data": {
            "text/plain": [
              "<Figure size 432x288 with 4 Axes>"
            ],
            "image/png": "[encoded data removed]"
          },
          "metadata": {
            "needs_background": "light"
          }
        },
        {
          "output_type": "stream",
          "name": "stdout",
          "text": [
            "\n",
            " Числа кторые были распознаны сетью:: \n",
            "Predicted labels tensor([6, 6, 6, 6])\n",
            "\n",
            " Вывод метрик:: \n",
            "              precision    recall  f1-score   support\n",
            "\n",
            "           3       0.00      0.00      0.00         1\n",
            "           6       0.50      1.00      0.67         2\n",
            "           8       0.00      0.00      0.00         1\n",
            "\n",
            "    accuracy                           0.50         4\n",
            "   macro avg       0.17      0.33      0.22         4\n",
            "weighted avg       0.25      0.50      0.33         4\n",
            "\n"
          ]
        },
        {
          "output_type": "stream",
          "name": "stderr",
          "text": [
            "<ipython-input-152-ce1c84f86c34>:23: UserWarning: Implicit dimension choice for softmax has been deprecated. Change the call to include dim=X as an argument.\n",
            "  x = self.Softmax(probas) #dim=1\n",
            "/usr/local/lib/python3.8/dist-packages/sklearn/metrics/_classification.py:1318: UndefinedMetricWarning: Precision and F-score are ill-defined and being set to 0.0 in labels with no predicted samples. Use `zero_division` parameter to control this behavior.\n",
            "  _warn_prf(average, modifier, msg_start, len(result))\n",
            "/usr/local/lib/python3.8/dist-packages/sklearn/metrics/_classification.py:1318: UndefinedMetricWarning: Precision and F-score are ill-defined and being set to 0.0 in labels with no predicted samples. Use `zero_division` parameter to control this behavior.\n",
            "  _warn_prf(average, modifier, msg_start, len(result))\n",
            "/usr/local/lib/python3.8/dist-packages/sklearn/metrics/_classification.py:1318: UndefinedMetricWarning: Precision and F-score are ill-defined and being set to 0.0 in labels with no predicted samples. Use `zero_division` parameter to control this behavior.\n",
            "  _warn_prf(average, modifier, msg_start, len(result))\n"
          ]
        }
      ],
      "source": [
        "for features, targets in test_dataloader:\n",
        "    break\n",
        "    \n",
        "%matplotlib inline\n",
        "import matplotlib\n",
        "import matplotlib.pyplot as plt\n",
        "fig, ax = plt.subplots(1, 4)\n",
        "for i in range(4):\n",
        "    ax[i].imshow(features[i].view(28, 28), cmap=matplotlib.cm.binary)\n",
        "print(\"\\n Числа кторые необходимо распознать:: \")\n",
        "plt.show()\n",
        "\n",
        "print(\"\\n Числа кторые были распознаны сетью:: \")\n",
        "_, predictions = model.forward(features[:4].view(-1, 28*28).to(device))\n",
        "predictions = torch.argmax(predictions, dim=1)\n",
        "print('Predicted labels', predictions)\n",
        "\n",
        "print(\"\\n Вывод метрик:: \")\n",
        "from sklearn.metrics import classification_report\n",
        "#accuracy_score(preds, reals), f1_score(reals, preds)\n",
        "print(classification_report(targets[:4], predictions))\n",
        "#print(classification_report(reals, preds, labels=[1, 2, 3]))"
      ],
      "metadata": {
        "pycharm": {
          "name": "#%%\n"
        },
        "id": "WadJNJRyF49o",
        "outputId": "766030e6-ee32-4019-f6d2-bd0984e27d76",
        "colab": {
          "base_uri": "https://localhost:8080/",
          "height": 604
        }
      }
    }
  ],
  "metadata": {
    "kernelspec": {
      "display_name": "Python 3",
      "language": "python",
      "name": "python3"
    },
    "language_info": {
      "codemirror_mode": {
        "name": "ipython",
        "version": 2
      },
      "file_extension": ".py",
      "mimetype": "text/x-python",
      "name": "python",
      "nbconvert_exporter": "python",
      "pygments_lexer": "ipython2",
      "version": "2.7.6"
    },
    "colab": {
      "provenance": []
    }
  },
  "nbformat": 4,
  "nbformat_minor": 0
}