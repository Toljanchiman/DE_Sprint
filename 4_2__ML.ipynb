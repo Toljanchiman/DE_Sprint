{
  "nbformat": 4,
  "nbformat_minor": 0,
  "metadata": {
    "colab": {
      "provenance": []
    },
    "kernelspec": {
      "name": "python3",
      "display_name": "Python 3"
    },
    "language_info": {
      "name": "python"
    }
  },
  "cells": [
    {
      "cell_type": "code",
      "execution_count": null,
      "metadata": {
        "id": "PZZ-3H0bN3G5"
      },
      "outputs": [],
      "source": [
        "#@title Импорты\n",
        "import pandas\n",
        "%matplotlib inline\n",
        "import warnings\n",
        "warnings.filterwarnings(\"ignore\")\n",
        "\n",
        "import pandas as pd\n",
        "import numpy as np\n",
        "import nltk\n",
        "import matplotlib.pyplot as plt\n",
        "import seaborn as sns\n",
        "import itertools\n",
        "from sklearn.feature_extraction.text import TfidfVectorizer\n",
        "from sklearn.feature_extraction.text import CountVectorizer\n",
        "from sklearn.metrics import confusion_matrix\n",
        "from sklearn import metrics\n",
        "from sklearn.metrics import roc_curve, auc\n",
        "from sklearn.preprocessing import LabelEncoder\n",
        "\n"
      ]
    },
    {
      "cell_type": "code",
      "source": [
        "#@title #1. Скачайте датасет ссылка #https://www.kaggle.com/datasets/gauravduttakiit/loan-defaulter #Цель - предсказать, является ли заявитель неплательщиком (выплатит кредит банку или нет) #TARGET действует как зависимая переменная - является ли заявитель неплательщиком или нет\n",
        "#Application data: 122 features | Previous application data: 37 features\n",
        "\n",
        "application_data = pd.read_csv('/content/application_data.csv')\n",
        "previous_application = pd.read_csv('/content/previous_application.csv')\n",
        "\n",
        "application_data.info()"
      ],
      "metadata": {
        "colab": {
          "base_uri": "https://localhost:8080/"
        },
        "id": "8l7oiL3K2d3E",
        "outputId": "4ae3b4b9-754f-457f-86f4-7e6fef693df6"
      },
      "execution_count": null,
      "outputs": [
        {
          "output_type": "stream",
          "name": "stdout",
          "text": [
            "<class 'pandas.core.frame.DataFrame'>\n",
            "RangeIndex: 307511 entries, 0 to 307510\n",
            "Columns: 122 entries, SK_ID_CURR to AMT_REQ_CREDIT_BUREAU_YEAR\n",
            "dtypes: float64(65), int64(41), object(16)\n",
            "memory usage: 286.2+ MB\n"
          ]
        }
      ]
    },
    {
      "cell_type": "code",
      "source": [
        "#@title #2. Сделайте предобработку данных #Удаление лишних и бесполезных данных #Заполнение пропущенных значений #Выбросы (средн. знач.)\n",
        "\n",
        "application_data.drop(labels=['OWN_CAR_AGE', 'EXT_SOURCE_1', 'APARTMENTS_AVG', 'BASEMENTAREA_AVG', 'YEARS_BEGINEXPLUATATION_AVG', 'YEARS_BUILD_AVG', 'COMMONAREA_AVG', 'ELEVATORS_AVG', 'ENTRANCES_AVG', 'FLOORSMAX_AVG', 'FLOORSMIN_AVG', 'LANDAREA_AVG', 'LIVINGAPARTMENTS_AVG', 'LIVINGAREA_AVG', 'NONLIVINGAPARTMENTS_AVG', 'NONLIVINGAREA_AVG', 'APARTMENTS_MODE', 'BASEMENTAREA_MODE', 'YEARS_BEGINEXPLUATATION_MODE', 'YEARS_BUILD_MODE', 'COMMONAREA_MODE', 'ELEVATORS_MODE', 'ENTRANCES_MODE', 'FLOORSMAX_MODE', 'FLOORSMIN_MODE', 'LANDAREA_MODE', 'LIVINGAPARTMENTS_MODE', 'LIVINGAREA_MODE', 'NONLIVINGAPARTMENTS_MODE', 'NONLIVINGAREA_MODE', 'APARTMENTS_MEDI', 'BASEMENTAREA_MEDI', 'YEARS_BEGINEXPLUATATION_MEDI', 'YEARS_BUILD_MEDI', 'COMMONAREA_MEDI', 'ELEVATORS_MEDI', 'ENTRANCES_MEDI', 'FLOORSMAX_MEDI', 'FLOORSMIN_MEDI', 'LANDAREA_MEDI', 'LIVINGAPARTMENTS_MEDI', 'LIVINGAREA_MEDI', 'NONLIVINGAPARTMENTS_MEDI', 'NONLIVINGAREA_MEDI', 'FONDKAPREMONT_MODE', 'HOUSETYPE_MODE', 'TOTALAREA_MODE', 'WALLSMATERIAL_MODE', 'EMERGENCYSTATE_MODE'],axis=1,inplace=True)\n",
        "\n",
        "application_data.drop(labels=['FLAG_MOBIL',  'FLAG_EMP_PHONE',  'FLAG_WORK_PHONE',  'FLAG_CONT_MOBILE',  'FLAG_PHONE',  'FLAG_EMAIL',  'FLAG_DOCUMENT_2',  'FLAG_DOCUMENT_3',  'FLAG_DOCUMENT_4',  'FLAG_DOCUMENT_5',  'FLAG_DOCUMENT_6',  'FLAG_DOCUMENT_7',  'FLAG_DOCUMENT_8',  'FLAG_DOCUMENT_9',  'FLAG_DOCUMENT_10',  'FLAG_DOCUMENT_11',  'FLAG_DOCUMENT_12',  'FLAG_DOCUMENT_13',  'FLAG_DOCUMENT_14',  'FLAG_DOCUMENT_15',  'FLAG_DOCUMENT_16',  'FLAG_DOCUMENT_17',  'FLAG_DOCUMENT_18',  'FLAG_DOCUMENT_19',  'FLAG_DOCUMENT_20',  'FLAG_DOCUMENT_21'],axis=1,inplace=True)\n",
        "\n",
        "application_data.drop(labels=[\"REG_REGION_NOT_LIVE_REGION\",\"LIVE_REGION_NOT_WORK_REGION\",\"LIVE_CITY_NOT_WORK_CITY\"],axis=1,inplace=True)\n",
        "\n",
        "application_data.drop(labels=['OBS_30_CNT_SOCIAL_CIRCLE','DEF_30_CNT_SOCIAL_CIRCLE'],axis=1,inplace=True)\n",
        "\n",
        "numerical_features = [feature for feature in application_data.columns if application_data[feature].dtypes != 'O']\n",
        "\n",
        "DAYS_feature = [feature for feature in numerical_features if 'DAYS' in feature]\n",
        "\n",
        "application_data[\"Age\"] = application_data.DAYS_BIRTH//(-365) \n",
        "application_data[[\"Age\"]].head()\n",
        "application_data[\"YEAR_EMPLOYED\"] = application_data.DAYS_EMPLOYED//(-365) \n",
        "application_data[[\"YEAR_EMPLOYED\"]].describe()\n",
        "application_data[[\"YEAR_EMPLOYED\"]].value_counts()\n",
        "application_data[\"YEAR_EMPLOYED\"].replace([-1001],[1],inplace=True)\n",
        "application_data[[\"YEAR_EMPLOYED\"]].value_counts()\n",
        "application_data[\"YEAR_REGISTRATION\"] = application_data.DAYS_REGISTRATION//(-365) \n",
        "application_data[[\"YEAR_REGISTRATION\"]].describe()\n",
        "application_data[\"YEAR_ID_PUBLISH\"] = application_data.DAYS_ID_PUBLISH//(-365) \n",
        "application_data[[\"YEAR_ID_PUBLISH\"]].describe()\n",
        "application_data[\"YEAR_LAST_PHONE_CHANGE\"] = application_data.DAYS_LAST_PHONE_CHANGE//(-365) \n",
        "application_data[[\"YEAR_LAST_PHONE_CHANGE\"]].describe()\n",
        "application_data.drop(labels=DAYS_feature, inplace=True, axis=1)\n",
        "\n",
        "application_data['CNT_FAM_MEMBERS']=application_data['CNT_FAM_MEMBERS'].fillna(application_data['CNT_FAM_MEMBERS'].mode()[0])\n",
        "application_data['CNT_FAM_MEMBERS'] = application_data['CNT_FAM_MEMBERS'].astype(int)\n",
        "\n",
        "application_data.drop(labels='HOUR_APPR_PROCESS_START', inplace=True, axis=1)\n",
        "\n",
        "application_data.YEAR_LAST_PHONE_CHANGE.replace(-0.0, 0.0, inplace=True)\n",
        "\n",
        "prev_ap_merged = pd.merge(application_data[['SK_ID_CURR', 'TARGET']], previous_application, how='left', on=['SK_ID_CURR'])\n",
        "\n",
        "\n",
        "prev_ap_merged.drop(['SK_ID_PREV'], axis=1, inplace=True)\n",
        "prev_ap_merged['NFLAG_LAST_APPL_IN_DAY'] = prev_ap_merged['NFLAG_LAST_APPL_IN_DAY'].fillna(prev_ap_merged['NFLAG_LAST_APPL_IN_DAY'].mode()[0])\n",
        "prev_ap_merged['NFLAG_INSURED_ON_APPROVAL'] = prev_ap_merged['NFLAG_INSURED_ON_APPROVAL'].fillna(prev_ap_merged['NFLAG_INSURED_ON_APPROVAL'].mode()[0])\n",
        "for i in ['AMT_ANNUITY',\n",
        " 'AMT_APPLICATION',\n",
        " 'AMT_CREDIT',\n",
        " 'AMT_DOWN_PAYMENT',\n",
        " 'AMT_GOODS_PRICE']:\n",
        "  prev_ap_merged[i].fillna(prev_ap_merged[i].median(),inplace = True)\n",
        "for i in ['AMT_ANNUITY',\n",
        " 'AMT_APPLICATION',\n",
        " 'AMT_CREDIT',\n",
        " 'AMT_DOWN_PAYMENT',\n",
        " 'AMT_GOODS_PRICE']:\n",
        "  prev_ap_merged = prev_ap_merged[prev_ap_merged[i] < np.nanpercentile(prev_ap_merged[i], 99)]\n",
        "prev_ap_merged.drop(labels='HOUR_APPR_PROCESS_START', inplace=True, axis=1)\n",
        "prev_ap_merged.drop(['DAYS_FIRST_DRAWING'], axis=1, inplace=True)\n",
        "prev_ap_merged[\"YEAR_DECISION\"] = prev_ap_merged.DAYS_DECISION//(-365) \n",
        "prev_ap_merged[\"YEAR_FIRST_DUE\"] = prev_ap_merged.DAYS_FIRST_DUE//(-365) \n",
        "prev_ap_merged[\"YEAR_LAST_DUE_1ST_VERSION\"] = prev_ap_merged.DAYS_LAST_DUE_1ST_VERSION//(-365)\n",
        "prev_ap_merged[\"YEAR_LAST_DUE\"] = prev_ap_merged.DAYS_LAST_DUE//(-365) \n",
        "prev_ap_merged[\"YEAR_TERMINATION\"] = prev_ap_merged.DAYS_TERMINATION//(-365)\n",
        "\n",
        "\n",
        "for i in ['YEAR_DECISION',\n",
        " 'YEAR_FIRST_DUE',\n",
        " 'YEAR_LAST_DUE_1ST_VERSION',\n",
        " 'YEAR_LAST_DUE',\n",
        " 'YEAR_TERMINATION']:\n",
        "  prev_ap_merged[i].fillna(prev_ap_merged[i].median(),inplace = True)\n",
        "prev_ap_merged['YEAR_LAST_DUE_1ST_VERSION']=prev_ap_merged['YEAR_LAST_DUE_1ST_VERSION'].abs()\n",
        "prev_ap_merged['SELLERPLACE_AREA'].fillna(prev_ap_merged['SELLERPLACE_AREA'].median(),inplace = True)\n",
        "prev_ap_merged = prev_ap_merged[prev_ap_merged['SELLERPLACE_AREA'] < np.nanpercentile(prev_ap_merged['SELLERPLACE_AREA'], 99)]\n",
        "prev_ap_merged['CNT_PAYMENT'].fillna(prev_ap_merged['CNT_PAYMENT'].median(),inplace = True)\n",
        "prev_ap_merged = prev_ap_merged[prev_ap_merged['CNT_PAYMENT'] < np.nanpercentile(prev_ap_merged['CNT_PAYMENT'], 99)]\n",
        "prev_ap_merged['RATE_DOWN_PAYMENT'].fillna(prev_ap_merged['RATE_DOWN_PAYMENT'].median(),inplace = True)\n",
        "prev_ap_merged = prev_ap_merged[prev_ap_merged['RATE_DOWN_PAYMENT'] < np.nanpercentile(prev_ap_merged['RATE_DOWN_PAYMENT'], 99)]\n",
        "prev_ap_merged['NAME_CONTRACT_TYPE'].fillna(prev_ap_merged.NAME_CONTRACT_TYPE.mode()[0], inplace=True)\n",
        "prev_ap_merged['WEEKDAY_APPR_PROCESS_START'].fillna(prev_ap_merged.WEEKDAY_APPR_PROCESS_START.mode()[0], inplace=True)\n",
        "prev_ap_merged.drop(labels=['FLAG_LAST_APPL_PER_CONTRACT'],axis=1,inplace=True)\n",
        "prev_ap_merged['NAME_CASH_LOAN_PURPOSE'].fillna(prev_ap_merged.NAME_CASH_LOAN_PURPOSE.mode()[0], inplace=True)\n",
        "prev_ap_merged['NAME_CONTRACT_STATUS'].fillna(prev_ap_merged.NAME_CONTRACT_STATUS.mode()[0], inplace=True)\n",
        "prev_ap_merged['NAME_PAYMENT_TYPE'].fillna(prev_ap_merged.NAME_PAYMENT_TYPE.mode()[0], inplace=True)\n",
        "prev_ap_merged['CODE_REJECT_REASON'].fillna(prev_ap_merged.CODE_REJECT_REASON.mode()[0], inplace=True)\n",
        "prev_ap_merged['NAME_TYPE_SUITE'].fillna(prev_ap_merged.NAME_TYPE_SUITE.mode()[0], inplace=True)\n",
        "prev_ap_merged['NAME_CLIENT_TYPE'].fillna(prev_ap_merged.NAME_CLIENT_TYPE.mode()[0], inplace=True)\n",
        "prev_ap_merged['NAME_GOODS_CATEGORY'].fillna(prev_ap_merged.NAME_GOODS_CATEGORY.mode()[0], inplace=True)\n",
        "prev_ap_merged['NAME_PORTFOLIO'].fillna(prev_ap_merged.NAME_PORTFOLIO.mode()[0], inplace=True)\n",
        "prev_ap_merged['NAME_PRODUCT_TYPE'].fillna(prev_ap_merged.NAME_PRODUCT_TYPE.mode()[0], inplace=True)\n",
        "prev_ap_merged['CHANNEL_TYPE'].fillna(prev_ap_merged.CHANNEL_TYPE.mode()[0], inplace=True)\n",
        "prev_ap_merged['NAME_SELLER_INDUSTRY'].fillna(prev_ap_merged.NAME_SELLER_INDUSTRY.mode()[0], inplace=True)\n",
        "prev_ap_merged['NAME_YIELD_GROUP'].fillna(prev_ap_merged.NAME_YIELD_GROUP.mode()[0], inplace=True)\n",
        "prev_ap_merged['PRODUCT_COMBINATION'].fillna(prev_ap_merged.PRODUCT_COMBINATION.mode()[0], inplace=True)\n",
        "\n",
        "prev_ap_merged.drop(labels='TARGET', axis=1, inplace=True)\n",
        "\n",
        "loan_process_df = pd.merge(application_data, prev_ap_merged, how='inner', on='SK_ID_CURR')\n",
        "\n",
        "loan_process_df.info()"
      ],
      "metadata": {
        "id": "s1fmrjrQW-HG",
        "colab": {
          "base_uri": "https://localhost:8080/"
        },
        "outputId": "2f725777-787c-4a80-a393-f4bce24f9d78"
      },
      "execution_count": null,
      "outputs": [
        {
          "output_type": "stream",
          "name": "stdout",
          "text": [
            "<class 'pandas.core.frame.DataFrame'>\n",
            "Int64Index: 1287645 entries, 0 to 1287644\n",
            "Data columns (total 78 columns):\n",
            " #   Column                        Non-Null Count    Dtype  \n",
            "---  ------                        --------------    -----  \n",
            " 0   SK_ID_CURR                    1287645 non-null  int64  \n",
            " 1   TARGET                        1287645 non-null  int64  \n",
            " 2   NAME_CONTRACT_TYPE_x          1287645 non-null  object \n",
            " 3   CODE_GENDER                   1287645 non-null  object \n",
            " 4   FLAG_OWN_CAR                  1287645 non-null  object \n",
            " 5   FLAG_OWN_REALTY               1287645 non-null  object \n",
            " 6   CNT_CHILDREN                  1287645 non-null  int64  \n",
            " 7   AMT_INCOME_TOTAL              1287645 non-null  float64\n",
            " 8   AMT_CREDIT_x                  1287645 non-null  float64\n",
            " 9   AMT_ANNUITY_x                 1287558 non-null  float64\n",
            " 10  AMT_GOODS_PRICE_x             1286561 non-null  float64\n",
            " 11  NAME_TYPE_SUITE_x             1284005 non-null  object \n",
            " 12  NAME_INCOME_TYPE              1287645 non-null  object \n",
            " 13  NAME_EDUCATION_TYPE           1287645 non-null  object \n",
            " 14  NAME_FAMILY_STATUS            1287645 non-null  object \n",
            " 15  NAME_HOUSING_TYPE             1287645 non-null  object \n",
            " 16  REGION_POPULATION_RELATIVE    1287645 non-null  float64\n",
            " 17  OCCUPATION_TYPE               871423 non-null   object \n",
            " 18  CNT_FAM_MEMBERS               1287645 non-null  int64  \n",
            " 19  REGION_RATING_CLIENT          1287645 non-null  int64  \n",
            " 20  REGION_RATING_CLIENT_W_CITY   1287645 non-null  int64  \n",
            " 21  WEEKDAY_APPR_PROCESS_START_x  1287645 non-null  object \n",
            " 22  REG_REGION_NOT_WORK_REGION    1287645 non-null  int64  \n",
            " 23  REG_CITY_NOT_LIVE_CITY        1287645 non-null  int64  \n",
            " 24  REG_CITY_NOT_WORK_CITY        1287645 non-null  int64  \n",
            " 25  ORGANIZATION_TYPE             1287645 non-null  object \n",
            " 26  EXT_SOURCE_2                  1285880 non-null  float64\n",
            " 27  EXT_SOURCE_3                  1063825 non-null  float64\n",
            " 28  OBS_60_CNT_SOCIAL_CIRCLE      1284576 non-null  float64\n",
            " 29  DEF_60_CNT_SOCIAL_CIRCLE      1284576 non-null  float64\n",
            " 30  AMT_REQ_CREDIT_BUREAU_HOUR    1136502 non-null  float64\n",
            " 31  AMT_REQ_CREDIT_BUREAU_DAY     1136502 non-null  float64\n",
            " 32  AMT_REQ_CREDIT_BUREAU_WEEK    1136502 non-null  float64\n",
            " 33  AMT_REQ_CREDIT_BUREAU_MON     1136502 non-null  float64\n",
            " 34  AMT_REQ_CREDIT_BUREAU_QRT     1136502 non-null  float64\n",
            " 35  AMT_REQ_CREDIT_BUREAU_YEAR    1136502 non-null  float64\n",
            " 36  Age                           1287645 non-null  int64  \n",
            " 37  YEAR_EMPLOYED                 1287645 non-null  int64  \n",
            " 38  YEAR_REGISTRATION             1287645 non-null  float64\n",
            " 39  YEAR_ID_PUBLISH               1287645 non-null  int64  \n",
            " 40  YEAR_LAST_PHONE_CHANGE        1287644 non-null  float64\n",
            " 41  NAME_CONTRACT_TYPE_y          1287645 non-null  object \n",
            " 42  AMT_ANNUITY_y                 1287645 non-null  float64\n",
            " 43  AMT_APPLICATION               1287645 non-null  float64\n",
            " 44  AMT_CREDIT_y                  1287645 non-null  float64\n",
            " 45  AMT_DOWN_PAYMENT              1287645 non-null  float64\n",
            " 46  AMT_GOODS_PRICE_y             1287645 non-null  float64\n",
            " 47  WEEKDAY_APPR_PROCESS_START_y  1287645 non-null  object \n",
            " 48  NFLAG_LAST_APPL_IN_DAY        1287645 non-null  float64\n",
            " 49  RATE_DOWN_PAYMENT             1287645 non-null  float64\n",
            " 50  RATE_INTEREST_PRIMARY         4733 non-null     float64\n",
            " 51  RATE_INTEREST_PRIVILEGED      4733 non-null     float64\n",
            " 52  NAME_CASH_LOAN_PURPOSE        1287645 non-null  object \n",
            " 53  NAME_CONTRACT_STATUS          1287645 non-null  object \n",
            " 54  DAYS_DECISION                 1270707 non-null  float64\n",
            " 55  NAME_PAYMENT_TYPE             1287645 non-null  object \n",
            " 56  CODE_REJECT_REASON            1287645 non-null  object \n",
            " 57  NAME_TYPE_SUITE_y             1287645 non-null  object \n",
            " 58  NAME_CLIENT_TYPE              1287645 non-null  object \n",
            " 59  NAME_GOODS_CATEGORY           1287645 non-null  object \n",
            " 60  NAME_PORTFOLIO                1287645 non-null  object \n",
            " 61  NAME_PRODUCT_TYPE             1287645 non-null  object \n",
            " 62  CHANNEL_TYPE                  1287645 non-null  object \n",
            " 63  SELLERPLACE_AREA              1287645 non-null  float64\n",
            " 64  NAME_SELLER_INDUSTRY          1287645 non-null  object \n",
            " 65  CNT_PAYMENT                   1287645 non-null  float64\n",
            " 66  NAME_YIELD_GROUP              1287645 non-null  object \n",
            " 67  PRODUCT_COMBINATION           1287645 non-null  object \n",
            " 68  DAYS_FIRST_DUE                771696 non-null   float64\n",
            " 69  DAYS_LAST_DUE_1ST_VERSION     771696 non-null   float64\n",
            " 70  DAYS_LAST_DUE                 771696 non-null   float64\n",
            " 71  DAYS_TERMINATION              771696 non-null   float64\n",
            " 72  NFLAG_INSURED_ON_APPROVAL     1287645 non-null  float64\n",
            " 73  YEAR_DECISION                 1287645 non-null  float64\n",
            " 74  YEAR_FIRST_DUE                1287645 non-null  float64\n",
            " 75  YEAR_LAST_DUE_1ST_VERSION     1287645 non-null  float64\n",
            " 76  YEAR_LAST_DUE                 1287645 non-null  float64\n",
            " 77  YEAR_TERMINATION              1287645 non-null  float64\n",
            "dtypes: float64(39), int64(12), object(27)\n",
            "memory usage: 776.1+ MB\n"
          ]
        }
      ]
    },
    {
      "cell_type": "code",
      "source": [
        "#@title #Кодирование численных и категориальных фичесов\n",
        "from sklearn import metrics\n",
        "from sklearn.preprocessing import LabelEncoder\n",
        "import warnings\n",
        "warnings.filterwarnings(\"ignore\")\n",
        "from sklearn.neighbors import KNeighborsClassifier\n",
        "from sklearn.metrics import confusion_matrix\n",
        "from sklearn.metrics._classification import accuracy_score, log_loss\n",
        "from sklearn.linear_model import LogisticRegression\n",
        "from sklearn.manifold import TSNE\n",
        "\n",
        "\n",
        "Categorical_features=[feature for feature in loan_process_df.columns if loan_process_df[feature].dtype=='O']\n",
        "print(\"\\n Категориальные features:: \")\n",
        "print(Categorical_features)\n",
        "continous_feature=[feature for feature in loan_process_df.columns if feature not in Categorical_features and feature not in ['SK_ID_CURR','TARGET']]\n",
        "print(\"\\n Численные features:: \")\n",
        "print(continous_feature)\n",
        "\n",
        "\n",
        "from sklearn.preprocessing import OneHotEncoder\n",
        "ohe = OneHotEncoder(sparse=False,handle_unknown='ignore')\n",
        "ohe.fit(loan_process_df[Categorical_features])\n",
        "data_cat=ohe.transform(loan_process_df[Categorical_features])\n",
        "cat_cols_ohe = list(ohe.get_feature_names(input_features=Categorical_features))\n",
        "data_cat_final = pd.DataFrame(data_cat, columns = cat_cols_ohe)\n",
        "\n",
        "\n",
        "from sklearn.preprocessing import StandardScaler\n",
        "scaler=StandardScaler()\n",
        "scaler.fit(loan_process_df[continous_feature])\n",
        "data_Num=scaler.transform(loan_process_df[continous_feature])\n",
        "\n",
        "\n",
        "data_Num_final=pd.DataFrame(data_Num, columns=continous_feature)\n",
        "data = pd.concat([loan_process_df[['SK_ID_CURR','TARGET']].reset_index(drop=True),data_Num_final],axis=1)\n",
        "data_final = pd.concat([data_cat_final,data], axis = 1)\n",
        "\n",
        "#Тут Нужно очищать память или сохр. данные в файл т.к. Colab крашится!\n",
        "import gc\n",
        "del(application_data)\n",
        "del(previous_application)\n",
        "del(numerical_features)\n",
        "del(DAYS_feature)\n",
        "del(prev_ap_merged)\n",
        "del(loan_process_df)\n",
        "del(Categorical_features)\n",
        "del(continous_feature)\n",
        "del(ohe)\n",
        "del(data_cat)\n",
        "del(cat_cols_ohe)\n",
        "del(data_cat_final)\n",
        "del(scaler)\n",
        "del(data_Num)\n",
        "del(data_Num_final)\n",
        "del(data)\n",
        "gc.collect()\n",
        "\n",
        "\n",
        "data_final.drop(labels='SK_ID_CURR',axis=1,inplace=True)\n",
        "\n",
        "\n",
        "#Сплит данных\n",
        "y = data_final['TARGET'].values\n",
        "X = data_final.drop(['TARGET'], axis=1)\n",
        "\n",
        "X = X.fillna(0)\n",
        "np.nan_to_num(y, copy=False, nan = 0.0)\n",
        "#y = y.fillna(0)\n",
        "\n",
        "del(data_final)\n",
        "gc.collect()\n"
      ],
      "metadata": {
        "colab": {
          "base_uri": "https://localhost:8080/"
        },
        "id": "yFd6kpcy2YFP",
        "outputId": "cdaf78de-0099-4d9d-da09-24b9d02acb79"
      },
      "execution_count": null,
      "outputs": [
        {
          "output_type": "stream",
          "name": "stdout",
          "text": [
            "\n",
            " Категориальные features:: \n",
            "['NAME_CONTRACT_TYPE_x', 'CODE_GENDER', 'FLAG_OWN_CAR', 'FLAG_OWN_REALTY', 'NAME_TYPE_SUITE_x', 'NAME_INCOME_TYPE', 'NAME_EDUCATION_TYPE', 'NAME_FAMILY_STATUS', 'NAME_HOUSING_TYPE', 'OCCUPATION_TYPE', 'WEEKDAY_APPR_PROCESS_START_x', 'ORGANIZATION_TYPE', 'NAME_CONTRACT_TYPE_y', 'WEEKDAY_APPR_PROCESS_START_y', 'NAME_CASH_LOAN_PURPOSE', 'NAME_CONTRACT_STATUS', 'NAME_PAYMENT_TYPE', 'CODE_REJECT_REASON', 'NAME_TYPE_SUITE_y', 'NAME_CLIENT_TYPE', 'NAME_GOODS_CATEGORY', 'NAME_PORTFOLIO', 'NAME_PRODUCT_TYPE', 'CHANNEL_TYPE', 'NAME_SELLER_INDUSTRY', 'NAME_YIELD_GROUP', 'PRODUCT_COMBINATION']\n",
            "\n",
            " Численные features:: \n",
            "['CNT_CHILDREN', 'AMT_INCOME_TOTAL', 'AMT_CREDIT_x', 'AMT_ANNUITY_x', 'AMT_GOODS_PRICE_x', 'REGION_POPULATION_RELATIVE', 'CNT_FAM_MEMBERS', 'REGION_RATING_CLIENT', 'REGION_RATING_CLIENT_W_CITY', 'REG_REGION_NOT_WORK_REGION', 'REG_CITY_NOT_LIVE_CITY', 'REG_CITY_NOT_WORK_CITY', 'EXT_SOURCE_2', 'EXT_SOURCE_3', 'OBS_60_CNT_SOCIAL_CIRCLE', 'DEF_60_CNT_SOCIAL_CIRCLE', 'AMT_REQ_CREDIT_BUREAU_HOUR', 'AMT_REQ_CREDIT_BUREAU_DAY', 'AMT_REQ_CREDIT_BUREAU_WEEK', 'AMT_REQ_CREDIT_BUREAU_MON', 'AMT_REQ_CREDIT_BUREAU_QRT', 'AMT_REQ_CREDIT_BUREAU_YEAR', 'Age', 'YEAR_EMPLOYED', 'YEAR_REGISTRATION', 'YEAR_ID_PUBLISH', 'YEAR_LAST_PHONE_CHANGE', 'AMT_ANNUITY_y', 'AMT_APPLICATION', 'AMT_CREDIT_y', 'AMT_DOWN_PAYMENT', 'AMT_GOODS_PRICE_y', 'NFLAG_LAST_APPL_IN_DAY', 'RATE_DOWN_PAYMENT', 'RATE_INTEREST_PRIMARY', 'RATE_INTEREST_PRIVILEGED', 'DAYS_DECISION', 'SELLERPLACE_AREA', 'CNT_PAYMENT', 'DAYS_FIRST_DUE', 'DAYS_LAST_DUE_1ST_VERSION', 'DAYS_LAST_DUE', 'DAYS_TERMINATION', 'NFLAG_INSURED_ON_APPROVAL', 'YEAR_DECISION', 'YEAR_FIRST_DUE', 'YEAR_LAST_DUE_1ST_VERSION', 'YEAR_LAST_DUE', 'YEAR_TERMINATION']\n"
          ]
        },
        {
          "output_type": "execute_result",
          "data": {
            "text/plain": [
              "0"
            ]
          },
          "metadata": {},
          "execution_count": 4
        }
      ]
    },
    {
      "cell_type": "code",
      "source": [
        "#@title #3. Сделайте снижение размерности (SVD, PCA, t-SNE) данных.\n",
        "#Загружаем предобработанные данные из файла:\n",
        "\n",
        "from sklearn.model_selection import train_test_split\n",
        "X_train, X_test, y_train, y_test = train_test_split(X, y, test_size=0.33, stratify=y)\n",
        "\n",
        "del(X)\n",
        "del(y)\n",
        "gc.collect()\n",
        "\n",
        "X_train.info()\n",
        "#Обучим модель и посмотрим результаты (до снижения размерности)\n",
        "log_reg=LogisticRegression(penalty='l2',C=0.0001,n_jobs=-1)\n",
        "log_reg.fit(X_train,y_train) #pca_train,pca_test\n",
        "log_reg.score(X_test,y_test)\n",
        "from sklearn.metrics import classification_report\n",
        "print(classification_report(y_test, log_reg.predict(X_test)))\n",
        "\n",
        "\n",
        "\n",
        "#Выполним снижение размерности данных\n",
        "from sklearn.metrics import recall_score,roc_auc_score,f1_score,auc,precision_score\n",
        "from sklearn.decomposition import PCA\n",
        "pca=PCA(n_components=150)\n",
        "pca_train=pca.fit_transform(X_train)\n",
        "pca_test=pca.fit_transform(X_test)\n",
        "\n"
      ],
      "metadata": {
        "colab": {
          "base_uri": "https://localhost:8080/"
        },
        "id": "ItYpfV51W-_r",
        "outputId": "ef26d651-5aa8-4c39-a830-c14c470f7140"
      },
      "execution_count": null,
      "outputs": [
        {
          "output_type": "stream",
          "name": "stdout",
          "text": [
            "<class 'pandas.core.frame.DataFrame'>\n",
            "Int64Index: 862722 entries, 515313 to 24824\n",
            "Columns: 315 entries, NAME_CONTRACT_TYPE_x_Cash loans to YEAR_TERMINATION\n",
            "dtypes: float64(315)\n",
            "memory usage: 2.0 GB\n",
            "              precision    recall  f1-score   support\n",
            "\n",
            "           0       0.91      1.00      0.95    387910\n",
            "           1       0.18      0.00      0.01     37013\n",
            "\n",
            "    accuracy                           0.91    424923\n",
            "   macro avg       0.55      0.50      0.48    424923\n",
            "weighted avg       0.85      0.91      0.87    424923\n",
            "\n"
          ]
        }
      ]
    },
    {
      "cell_type": "code",
      "source": [
        "#@title #4. Обучите модель классификации. Выведите метрики.\n",
        "#Обучим новую модель на данных после снижения их размерности, чтобы сравнить\n",
        "log_reg=LogisticRegression(penalty='l2',C=0.0001,n_jobs=-1)\n",
        "log_reg.fit(pca_train,y_train) #pca_train,pca_test\n",
        "log_reg.score(pca_test,y_test)\n",
        "\n",
        "\n",
        "#Выведем метрики\n",
        "from sklearn.metrics import classification_report\n",
        "print(classification_report(y_test, log_reg.predict(pca_test)))\n"
      ],
      "metadata": {
        "id": "Pl1GvRtGXFzJ",
        "colab": {
          "base_uri": "https://localhost:8080/"
        },
        "outputId": "d38b834e-c723-419c-cc57-e64d0316f137"
      },
      "execution_count": null,
      "outputs": [
        {
          "output_type": "stream",
          "name": "stdout",
          "text": [
            "              precision    recall  f1-score   support\n",
            "\n",
            "           0       0.91      1.00      0.95    387910\n",
            "           1       0.55      0.01      0.01     37013\n",
            "\n",
            "    accuracy                           0.91    424923\n",
            "   macro avg       0.73      0.50      0.48    424923\n",
            "weighted avg       0.88      0.91      0.87    424923\n",
            "\n"
          ]
        }
      ]
    },
    {
      "cell_type": "markdown",
      "source": [
        "#5. Сделайте вывод\n",
        "#Вывод:: \n",
        "#Результат показывает, что после применения предобработки и снижения размерности данных - показатель точности улучшается"
      ],
      "metadata": {
        "id": "DBdWxaTF3ceH"
      }
    }
  ]
}